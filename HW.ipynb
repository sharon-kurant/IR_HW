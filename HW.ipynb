{
 "cells": [
  {
   "cell_type": "code",
   "execution_count": 1,
   "metadata": {},
   "outputs": [
    {
     "name": "stderr",
     "output_type": "stream",
     "text": [
      "[nltk_data] Downloading package punkt to\n",
      "[nltk_data]     C:\\Users\\sharonku\\AppData\\Roaming\\nltk_data...\n",
      "[nltk_data]   Package punkt is already up-to-date!\n"
     ]
    }
   ],
   "source": [
    "import os\n",
    "import re, csv, string, pandas as pd\n",
    "from collections import defaultdict\n",
    "from numpy import loadtxt\n",
    "from nltk import RegexpTokenizer\n",
    "from nltk.stem import WordNetLemmatizer\n",
    "from nltk.stem.porter import *\n",
    "from nltk.probability import FreqDist\n",
    "import nltk\n",
    "nltk.download('punkt')\n",
    "from collections import Counter"
   ]
  },
  {
   "cell_type": "code",
   "execution_count": 30,
   "metadata": {},
   "outputs": [
    {
     "name": "stdout",
     "output_type": "stream",
     "text": [
      "Amount of words in corpus is  536960\n",
      "Dictionary size is  26089\n"
     ]
    }
   ],
   "source": [
    "tokenizer = RegexpTokenizer(r\"[a-zA-Z]+\")\n",
    "fdist = FreqDist()\n",
    "\n",
    "dictionary = set()\n",
    "papers = {}\n",
    "path = \"HW1_TXT_files\"\n",
    "stop_words = []\n",
    "all_words = []\n",
    "\n",
    "for file_name in os.listdir(path):\n",
    "    with open(path + os.sep + file_name, 'r', encoding = \"utf8\") as f:\n",
    "        papers[file_name.lower()] = tokenizer.tokenize(f.read())\n",
    "        for word in papers[file_name.lower()]:\n",
    "            fdist[word] += 1\n",
    "            all_words.append(word)\n",
    "        dictionary = dictionary.union(set(papers[file_name.lower()]))\n",
    "\n",
    "amount = sum(fdist.values())\n",
    "print(\"Amount of words in corpus is \", amount)    \n",
    "print(\"Dictionary size is \", len(dictionary))\n",
    "\n",
    "# generate language model\n",
    "for key, value in fdist.items():\n",
    "    fdist[key] = value / amount\n",
    "\n",
    "with open(\"stop_words_english.txt\", \"r\", encoding = \"utf8\") as stop_words_file:\n",
    "    stop_words = stop_words_file.read().split(\"\\n\")\n",
    "\n",
    "dictionary_stopwords = set()\n",
    "dictionary_casefold = set()\n",
    "dictionary_stemming = set()\n",
    "\n",
    "\n",
    "#stop words removal\n",
    "stopwords_filter = [w for w in all_words if not w.lower() in stop_words]\n",
    "dictionary_stopwords = dictionary_stopwords.union(set(stopwords_filter))\n",
    "# generate lang model\n",
    "\n",
    "fdist_stopwords = FreqDist(stopwords_filter)\n",
    "stopwords_amount = sum(fdist_stopwords.values())\n",
    "for key, value in fdist_stopwords.items():\n",
    "    fdist_stopwords[key] = value / stopwords_amount\n",
    "    \n",
    "# case folding\n",
    "casefold = [w.lower() for w in stopwords_filter]\n",
    "dictionary_casefold = dictionary_casefold.union(set(casefold))\n",
    "\n",
    "#generate lang model\n",
    "fdist_casefold = FreqDist(casefold)\n",
    "casefold_amount = sum(fdist_casefold.values())\n",
    "for key, value in fdist_casefold.items():\n",
    "    fdist_casefold[key] = value / casefold_amount\n",
    "\n",
    "# stemming\n",
    "stemmer = PorterStemmer()\n",
    "stemming = [stemmer.stem(w) for w in casefold]\n",
    "dictionary_stemming = dictionary_stemming.union(set(stemming))\n",
    "\n",
    "# generate lang model\n",
    "fdist_stemming = FreqDist(stemming)\n",
    "stemming_amount = sum(fdist_stemming.values())\n",
    "for key, value in fdist_stemming.items():\n",
    "    fdist_stemming[key] = value / stemming_amount\n",
    "\n",
    "for title, paper in papers.items():\n",
    "    stopwords_filter = [w for w in paper if not w.lower() in stop_words]\n",
    "    casefold = [w.lower() for w in stopwords_filter]\n",
    "    stemmer = PorterStemmer()\n",
    "    stemming = [stemmer.stem(w) for w in casefold]\n",
    "    papers[title] = stemming"
   ]
  },
  {
   "cell_type": "code",
   "execution_count": 117,
   "metadata": {
    "scrolled": true
   },
   "outputs": [
    {
     "name": "stdout",
     "output_type": "stream",
     "text": [
      "initial Dictionary size is  26089\n",
      "Dictionary size after stop words removal is  24872\n",
      "Dictionary size after case folding is  20064\n",
      "Dictionary size after stemming is  14363\n"
     ]
    }
   ],
   "source": [
    "print(\"initial Dictionary size is \", len(dictionary))\n",
    "\n",
    "print(\"Dictionary size after stop words removal is \", len(dictionary_stopwords))\n",
    "\n",
    "print(\"Dictionary size after case folding is \", len(dictionary_casefold))\n",
    "\n",
    "print(\"Dictionary size after stemming is \", len(dictionary_stemming))"
   ]
  },
  {
   "cell_type": "code",
   "execution_count": 116,
   "metadata": {
    "scrolled": true
   },
   "outputs": [
    {
     "name": "stdout",
     "output_type": "stream",
     "text": [
      "initial language model\n",
      "FreqDist({'the': 0.062270932657926104, 'of': 0.03338609952324195, 'and': 0.028834550059594757, 'to': 0.021897348033373062, 'in': 0.018723927294398094, 'a': 0.017740613825983312, 'is': 0.009320992252681765, 'for': 0.009266984505363528, 'that': 0.009108685935637665, 'The': 0.007769666269368296, ...})\n",
      "\n",
      "language model after stop words removal\n",
      "FreqDist({'museum': 0.010523861221119589, 'mobile': 0.00907506230982125, 'guide': 0.008341106133121301, 'user': 0.008077340632119756, 'visitors': 0.007675958347986973, 'visitor': 0.004690438691723115, 'al': 0.003990886710805976, 'Museum': 0.003922078319240355, 'time': 0.003902964877138794, 'guides': 0.0037194758329638067, ...})\n",
      "\n",
      "language model after case folding\n",
      "FreqDist({'museum': 0.014656187403477117, 'mobile': 0.01151776021040077, 'guide': 0.009690515145491522, 'user': 0.009575834492882154, 'visitors': 0.008417559901527547, 'visitor': 0.005114757106377773, 'guides': 0.004384623618098136, 'context': 0.0042814110307497055, 'al': 0.004021468218168473, 'time': 0.004017645529748161, ...})\n",
      "\n",
      "language model after stemming\n",
      "FreqDist({'museum': 0.01736265080505818, 'guid': 0.014656187403477117, 'visitor': 0.013532317007905319, 'user': 0.013104175904830349, 'mobil': 0.011643908928271074, 'exhibit': 0.009828131928622762, 'visit': 0.005993975443049588, 'applic': 0.005837245217816786, 'interact': 0.005730209942048044, 'studi': 0.004862459670637166, ...})\n"
     ]
    }
   ],
   "source": [
    "print(\"initial language model\")\n",
    "fdist.pprint()\n",
    "\n",
    "print(\"\\nlanguage model after stop words removal\")\n",
    "fdist_stopwords.pprint()\n",
    "\n",
    "print(\"\\nlanguage model after case folding\")\n",
    "fdist_casefold.pprint()\n",
    "\n",
    "print(\"\\nlanguage model after stemming\")\n",
    "fdist_stemming.pprint()"
   ]
  },
  {
   "cell_type": "code",
   "execution_count": 107,
   "metadata": {
    "scrolled": false
   },
   "outputs": [
    {
     "data": {
      "text/html": [
       "<div>\n",
       "<style scoped>\n",
       "    .dataframe tbody tr th:only-of-type {\n",
       "        vertical-align: middle;\n",
       "    }\n",
       "\n",
       "    .dataframe tbody tr th {\n",
       "        vertical-align: top;\n",
       "    }\n",
       "\n",
       "    .dataframe thead th {\n",
       "        text-align: right;\n",
       "    }\n",
       "</style>\n",
       "<table border=\"1\" class=\"dataframe\">\n",
       "  <thead>\n",
       "    <tr style=\"text-align: right;\">\n",
       "      <th></th>\n",
       "      <th>fdist_initial</th>\n",
       "      <th>fdist_stopwords</th>\n",
       "      <th>fdist_casefold</th>\n",
       "      <th>fdist_stemming</th>\n",
       "    </tr>\n",
       "  </thead>\n",
       "  <tbody>\n",
       "    <tr>\n",
       "      <th>museum</th>\n",
       "      <td>0.005127</td>\n",
       "      <td>0.010524</td>\n",
       "      <td>0.014656</td>\n",
       "      <td>0.017363</td>\n",
       "    </tr>\n",
       "    <tr>\n",
       "      <th>guid</th>\n",
       "      <td>NaN</td>\n",
       "      <td>NaN</td>\n",
       "      <td>NaN</td>\n",
       "      <td>0.014656</td>\n",
       "    </tr>\n",
       "    <tr>\n",
       "      <th>visitor</th>\n",
       "      <td>0.002285</td>\n",
       "      <td>0.004690</td>\n",
       "      <td>0.005115</td>\n",
       "      <td>0.013532</td>\n",
       "    </tr>\n",
       "    <tr>\n",
       "      <th>user</th>\n",
       "      <td>0.003935</td>\n",
       "      <td>0.008077</td>\n",
       "      <td>0.009576</td>\n",
       "      <td>0.013104</td>\n",
       "    </tr>\n",
       "    <tr>\n",
       "      <th>mobil</th>\n",
       "      <td>NaN</td>\n",
       "      <td>NaN</td>\n",
       "      <td>NaN</td>\n",
       "      <td>0.011644</td>\n",
       "    </tr>\n",
       "    <tr>\n",
       "      <th>...</th>\n",
       "      <td>...</td>\n",
       "      <td>...</td>\n",
       "      <td>...</td>\n",
       "      <td>...</td>\n",
       "    </tr>\n",
       "    <tr>\n",
       "      <th>sensibility</th>\n",
       "      <td>NaN</td>\n",
       "      <td>NaN</td>\n",
       "      <td>0.000004</td>\n",
       "      <td>NaN</td>\n",
       "    </tr>\n",
       "    <tr>\n",
       "      <th>shoogle</th>\n",
       "      <td>NaN</td>\n",
       "      <td>NaN</td>\n",
       "      <td>0.000004</td>\n",
       "      <td>NaN</td>\n",
       "    </tr>\n",
       "    <tr>\n",
       "      <th>excitatory</th>\n",
       "      <td>NaN</td>\n",
       "      <td>NaN</td>\n",
       "      <td>0.000004</td>\n",
       "      <td>NaN</td>\n",
       "    </tr>\n",
       "    <tr>\n",
       "      <th>feasability</th>\n",
       "      <td>NaN</td>\n",
       "      <td>NaN</td>\n",
       "      <td>0.000004</td>\n",
       "      <td>NaN</td>\n",
       "    </tr>\n",
       "    <tr>\n",
       "      <th>haptics</th>\n",
       "      <td>NaN</td>\n",
       "      <td>NaN</td>\n",
       "      <td>0.000004</td>\n",
       "      <td>NaN</td>\n",
       "    </tr>\n",
       "  </tbody>\n",
       "</table>\n",
       "<p>37704 rows × 4 columns</p>\n",
       "</div>"
      ],
      "text/plain": [
       "             fdist_initial  fdist_stopwords  fdist_casefold  fdist_stemming\n",
       "museum            0.005127         0.010524        0.014656        0.017363\n",
       "guid                   NaN              NaN             NaN        0.014656\n",
       "visitor           0.002285         0.004690        0.005115        0.013532\n",
       "user              0.003935         0.008077        0.009576        0.013104\n",
       "mobil                  NaN              NaN             NaN        0.011644\n",
       "...                    ...              ...             ...             ...\n",
       "sensibility            NaN              NaN        0.000004             NaN\n",
       "shoogle                NaN              NaN        0.000004             NaN\n",
       "excitatory             NaN              NaN        0.000004             NaN\n",
       "feasability            NaN              NaN        0.000004             NaN\n",
       "haptics                NaN              NaN        0.000004             NaN\n",
       "\n",
       "[37704 rows x 4 columns]"
      ]
     },
     "execution_count": 107,
     "metadata": {},
     "output_type": "execute_result"
    }
   ],
   "source": [
    "df = pd.DataFrame(data = {\"fdist_initial\": fdist, \"fdist_stopwords\":fdist_stopwords, \"fdist_casefold\":fdist_casefold, \"fdist_stemming\": fdist_stemming}).sort_values(by = \"fdist_stemming\", ascending = False)\n",
    "df"
   ]
  },
  {
   "cell_type": "code",
   "execution_count": 24,
   "metadata": {},
   "outputs": [
    {
     "name": "stdout",
     "output_type": "stream",
     "text": [
      "FreqDist({'imag': 0.024328859060402684, 'object': 0.022651006711409395, 'museum': 0.01971476510067114, 'scan': 0.01552013422818792, 'colour': 0.013842281879194632, 'record': 0.012164429530201342, 'laser': 0.010486577181208054, 'conserv': 0.010067114093959731, 'technolog': 0.010067114093959731, 'digit': 0.00964765100671141, ...})\n",
      "None\n",
      "FreqDist({'user': 0.028890959925442685, 'sound': 0.023299161230195712, 'audio': 0.02050326188257223, 'interact': 0.01537744641192917, 'headphon': 0.010717614165890028, 'orient': 0.0097856477166822, 'posit': 0.009319664492078284, 'head': 0.008387698042870456, 'realiti': 0.007921714818266543, 'figur': 0.007921714818266543, ...})\n",
      "None\n",
      "FreqDist({'presenc': 0.035202086049543675, 'cultur': 0.033246414602346806, 'heritag': 0.027162103433289873, 'virtual': 0.024989135158626684, 'environ': 0.018035636679704477, 'interact': 0.012385919165580182, 'learn': 0.011516731855714906, 'evalu': 0.010212950890916993, 'social': 0.00847457627118644, 'understand': 0.00651890482398957, ...})\n",
      "None\n",
      "FreqDist({'person': 0.04009052699644358, 'user': 0.02651147752990624, 'recommend': 0.019398642095053348, 'base': 0.016165535079211122, 'visitor': 0.013579049466537343, 'learn': 0.012932428063368898, 'tour': 0.01196249595861623, 'evalu': 0.01196249595861623, 'set': 0.011315874555447785, 'prefer': 0.011315874555447785, ...})\n",
      "None\n",
      "FreqDist({'exhibit': 0.020107896027464444, 'visitor': 0.020107896027464444, 'eye': 0.01716527709661599, 'museum': 0.016674840608141245, 'interact': 0.014713094654242276, 'tapestri': 0.014713094654242276, 'pavia': 0.014222658165767533, 'track': 0.010789602746444336, 'battl': 0.010299166257969592, 'figur': 0.010299166257969592, ...})\n",
      "None\n",
      "FreqDist({'imag': 0.02774869109947644, 'exhibit': 0.025654450261780103, 'visitor': 0.021465968586387434, 'eye': 0.020418848167539267, 'museum': 0.0193717277486911, 'mobil': 0.017277486910994764, 'user': 0.015706806282722512, 'match': 0.015706806282722512, 'posit': 0.013612565445026177, 'object': 0.012565445026178011, ...})\n",
      "None\n",
      "FreqDist({'design': 0.029525032092426188, 'indigen': 0.02053915275994865, 'commun': 0.017115960633290545, 'ich': 0.01668806161745828, 'digit': 0.015832263585793753, 'artefact': 0.015832263585793753, 'cultur': 0.014976465554129225, 'heritag': 0.011553273427471117, 'user': 0.011553273427471117, 'technolog': 0.011553273427471117, ...})\n",
      "None\n",
      "FreqDist({'mobil': 0.03891625615763547, 'tourist': 0.022167487684729065, 'tourism': 0.022167487684729065, 'devic': 0.017733990147783252, 'applic': 0.017241379310344827, 'user': 0.014778325123152709, 'technolog': 0.012315270935960592, 'figur': 0.012315270935960592, 'servic': 0.011330049261083743, 'nigeria': 0.009852216748768473, ...})\n",
      "None\n",
      "FreqDist({'interpret': 0.060864922584089695, 'translat': 0.026695141484249868, 'languag': 0.024559530165509876, 'cultur': 0.021356113187399894, 'haihunh': 0.015483182060864922, 'machin': 0.014949279231179925, 'tomb': 0.013881473571809931, 'guid': 0.012813667912439935, 'site': 0.012813667912439935, 'transform': 0.011211959423384944, ...})\n",
      "None\n",
      "FreqDist({'mound': 0.032942993179770945, 'site': 0.013190065628619225, 'soil': 0.011452837472654742, 'survey': 0.0104233689357869, 'data': 0.01023034358512418, 'archeolog': 0.01016600180156994, 'locat': 0.009844292883798738, 'grid': 0.009651267533136018, 'portion': 0.009136533264702098, 'area': 0.008943507914039377, ...})\n",
      "None\n",
      "FreqDist({'mobil': 0.03926096997690531, 'user': 0.03695150115473441, 'system': 0.03464203233256351, 'guid': 0.020785219399538105, 'servic': 0.020785219399538105, 'map': 0.016166281755196306, 'comput': 0.013856812933025405, 'chapter': 0.013856812933025405, 'base': 0.011547344110854504, 'provid': 0.011547344110854504, ...})\n",
      "None\n",
      "FreqDist({'visitor': 0.0326477779375809, 'museum': 0.02588810585358838, 'user': 0.02229253559614555, 'present': 0.016251977563641593, 'visit': 0.015389040701855315, 'guid': 0.014669926650366748, 'commun': 0.011505824823817058, 'group': 0.010067596720839926, 'exhibit': 0.009348482669351359, 'model': 0.008773191428160507, ...})\n",
      "None\n",
      "FreqDist({'museum': 0.03152551429334758, 'exhibit': 0.029655356665776116, 'digit': 0.024044883783061716, 'cultur': 0.02003740315255143, 'technolog': 0.01923590702644937, 'visitor': 0.014694095645204382, 'user': 0.014159764894469677, 'engag': 0.014159764894469677, 'china': 0.012823938017632914, 'time': 0.012556772642265563, ...})\n",
      "None\n",
      "FreqDist({'visitor': 0.06766271681263954, 'museum': 0.053408895758200244, 'art': 0.04121586810922205, 'person': 0.03863987635239567, 'technolog': 0.0381246780010304, 'interact': 0.02575991756826378, 'experi': 0.01648634724368882, 'percept': 0.01287995878413189, 'collect': 0.010990898162459213, 'strategi': 0.010819165378670788, ...})\n",
      "None\n",
      "FreqDist({'imag': 0.046122994652406414, 'user': 0.020053475935828877, 'site': 0.01804812834224599, 'augment': 0.01537433155080214, 'track': 0.01537433155080214, 'realiti': 0.012032085561497326, 'registr': 0.011363636363636364, 'base': 0.0106951871657754, 'techniqu': 0.0106951871657754, 'transform': 0.0106951871657754, ...})\n",
      "None\n",
      "FreqDist({'realiti': 0.03180914512922465, 'applic': 0.03180914512922465, 'augment': 0.025182239893969515, 'model': 0.01855533465871438, 'interfac': 0.017892644135188866, 'virtual': 0.015241882041086813, 'heritag': 0.013916500994035786, 'site': 0.013916500994035786, 'figur': 0.012591119946984758, 'sri': 0.011928429423459244, ...})\n",
      "None\n",
      "FreqDist({'object': 0.025945144551519646, 'eye': 0.02260934025203855, 'detect': 0.020756115641215715, 'model': 0.012601927353595256, 'experi': 0.01223128243143069, 'face': 0.01223128243143069, 'data': 0.011860637509266123, 'imag': 0.010378057820607857, 'analysi': 0.01000741289844329, 'track': 0.01000741289844329, ...})\n",
      "None\n",
      "FreqDist({'museum': 0.06802904006453347, 'technolog': 0.03872008604463566, 'organ': 0.02285560634579188, 'art': 0.02285560634579188, 'institut': 0.015595590212422693, 'practic': 0.011831137402527562, 'social': 0.010217800484001076, 'organiz': 0.00860446356547459, 'sociolog': 0.006991126646948105, 'design': 0.006991126646948105, ...})\n",
      "None\n",
      "FreqDist({'tourism': 0.04004433975336012, 'heritag': 0.03651101565747541, 'cultur': 0.023971179160315922, 'univers': 0.009560759318276293, 'develop': 0.008937231536649578, 'studi': 0.00796729943189691, 'manag': 0.007482333379520576, 'intern': 0.006858805597893862, 'journal': 0.006304558680892337, 'volunt': 0.005681030899265623, ...})\n",
      "None\n",
      "FreqDist({'heritag': 0.036036036036036036, 'manag': 0.03487358326068003, 'risk': 0.024411508282476024, 'vr': 0.023249055507120024, 'applic': 0.02208660273176402, 'model': 0.015111886079628016, 'hbim': 0.013658820110433014, 'context': 0.013368206916594013, 'architectur': 0.013368206916594013, 'cultur': 0.013077593722755012, ...})\n",
      "None\n",
      "FreqDist({'user': 0.0235467255334805, 'map': 0.022810890360559236, 'tourist': 0.022810890360559236, 'attract': 0.02207505518763797, 'guid': 0.016188373804267846, 'citi': 0.01545253863134658, 'review': 0.014716703458425313, 'display': 0.013980868285504048, 'devic': 0.012509197939661517, 'restaur': 0.012509197939661517, ...})\n",
      "None\n",
      "FreqDist({'tourist': 0.04638439581351094, 'harass': 0.044957183634633684, 'tourism': 0.022835394862036156, 'studi': 0.014747859181731684, 'travel': 0.012369172216936251, 'alrawadieh': 0.010228353948620362, 'site': 0.009039010466222646, 'destin': 0.009039010466222646, 'experi': 0.009039010466222646, 'journal': 0.008563273073263558, ...})\n",
      "None\n",
      "FreqDist({'game': 0.030922431865828093, 'fixat': 0.027253668763102725, 'player': 0.020964360587002098, 'fi': 0.018343815513626835, 'fd': 0.01781970649895178, 'cognit': 0.01729559748427673, 'test': 0.016771488469601678, 'differ': 0.015723270440251572, 'style': 0.014150943396226415, 'impact': 0.012578616352201259, ...})\n",
      "None\n",
      "FreqDist({'doi': 0.026503802719520627, 'game': 0.025120995621110854, 'cognit': 0.017861258354459553, 'visual': 0.017400322654989628, 'cultur': 0.015556579857109933, 'fd': 0.013828070984097718, 'org': 0.013712837059230237, 'http': 0.013597603134362757, 'heritag': 0.013482369209495275, 'item': 0.012099562111085503, ...})\n",
      "None\n",
      "FreqDist({'virtual': 0.034851621808143544, 'environ': 0.018978605935127676, 'spatial': 0.01518288474810214, 'build': 0.014492753623188406, 'cognit': 0.013112491373360938, 'realiti': 0.012077294685990338, 'user': 0.01069703243616287, 'main': 0.010006901311249138, 'squar': 0.00966183574879227, 'model': 0.009316770186335404, ...})\n",
      "None\n"
     ]
    },
    {
     "name": "stdout",
     "output_type": "stream",
     "text": [
      "FreqDist({'predict': 0.025506555423122766, 'user': 0.020500595947556616, 'target': 0.017878426698450536, 'condit': 0.0166865315852205, 'environ': 0.01597139451728248, 'predictor': 0.014779499404052444, 'eye': 0.014541120381406437, 'track': 0.014302741358760428, 'base': 0.013110846245530394, 'path': 0.010727056019070322, ...})\n",
      "None\n",
      "FreqDist({'user': 0.027923211169284468, 'site': 0.019197207678883072, 'augment': 0.013263525305410123, 'imag': 0.012216404886561954, 'present': 0.01012216404886562, 'base': 0.009075043630017453, 'archeoguid': 0.008726003490401396, 'mu': 0.008376963350785341, 'tour': 0.008027923211169284, 'render': 0.007678883071553229, ...})\n",
      "None\n",
      "FreqDist({'museum': 0.036720751494449186, 'access': 0.03131226871619698, 'visitor': 0.014232849416453175, 'servic': 0.013663535439795047, 'guid': 0.011955593509820665, 'univers': 0.008539709649871904, 'technolog': 0.007970395673213778, 'panel': 0.007685738684884714, 'text': 0.007685738684884714, 'project': 0.00654711073156846, ...})\n",
      "None\n",
      "FreqDist({'object': 0.036694754009241645, 'gaze': 0.026094047295460724, 'recognit': 0.018755096493612396, 'method': 0.016580592552324, 'user': 0.015493340581679805, 'eye': 0.014949714596357706, 'featur': 0.014949714596357706, 'imag': 0.01331883664039141, 'base': 0.013047023647730362, 'xation': 0.012231584669747214, ...})\n",
      "None\n",
      "FreqDist({'geopark': 0.017988252569750368, 'sea': 0.015051395007342145, 'coastal': 0.013766519823788546, 'site': 0.011563876651982379, 'geosit': 0.010829662261380322, 'figur': 0.010279001468428781, 'level': 0.009911894273127754, 'area': 0.009544787077826725, 'resourc': 0.00881057268722467, 'di': 0.008627019089574155, ...})\n",
      "None\n",
      "FreqDist({'exhibit': 0.04633360193392425, 'visitor': 0.04593070104754231, 'museum': 0.0346494762288477, 'recommend': 0.030620467365028204, 'visit': 0.022965350523771154, 'qoe': 0.01974214343271555, 'model': 0.015713134568896052, 'room': 0.014907332796132152, 'algorithm': 0.0136986301369863, 'user': 0.01248992747784045, ...})\n",
      "None\n",
      "FreqDist({'eye': 0.054404145077720206, 'track': 0.034974093264248704, 'mobil': 0.026338514680483593, 'exhibit': 0.023747841105354058, 'data': 0.017271157167530225, 'fixat': 0.016407599309153715, 'process': 0.015112262521588947, 'movement': 0.015112262521588947, 'learn': 0.01468048359240069, 'studi': 0.013385146804835924, ...})\n",
      "None\n",
      "FreqDist({'visitor': 0.027121270825261525, 'museum': 0.02402169701666021, 'time': 0.014722975590856257, 'visit': 0.014722975590856257, 'studi': 0.013560635412630763, 'paint': 0.013560635412630763, 'data': 0.0131731886865556, 'point': 0.010461061604029445, 'artwork': 0.010073614877954282, 'eye': 0.010073614877954282, ...})\n",
      "None\n",
      "FreqDist({'site': 0.0348221044663134, 'user': 0.028009084027252083, 'search': 0.021196063588190765, 'collect': 0.017789553368660106, 'list': 0.015897047691143074, 'museum': 0.015518546555639667, 'evalu': 0.014383043149129448, 'link': 0.013626040878122634, 'databas': 0.013626040878122634, 'web': 0.011733535200605601, ...})\n",
      "None\n",
      "FreqDist({'languag': 0.03897158322056834, 'scienc': 0.02733423545331529, 'linguist': 0.02733423545331529, 'museum': 0.016779431664411367, 'lab': 0.012719891745602166, 'visitor': 0.011637347767253045, 'particip': 0.010013531799729363, 'student': 0.009472259810554804, 'outreach': 0.009201623815967524, 'compass': 0.009201623815967524, ...})\n",
      "None\n",
      "FreqDist({'beauti': 0.03128179043743642, 'aesthet': 0.020854526958290945, 'eye': 0.02034587995930824, 'pictur': 0.015513733468972533, 'track': 0.014750762970498474, 'measur': 0.012970498474059003, 'tourism': 0.01271617497456765, 'imag': 0.009918616480162767, 'attent': 0.009409969481180062, 'natur': 0.009409969481180062, ...})\n",
      "None\n",
      "FreqDist({'applic': 0.023696682464454975, 'realiti': 0.013371699390656737, 'ar': 0.012863913337846988, 'heritag': 0.011679079214624239, 'augment': 0.011340555179417738, 'ovid': 0.010155721056194989, 'mobil': 0.008293838862559242, 'cultur': 0.008124576844955992, 'experi': 0.007955314827352742, 'user': 0.007955314827352742, ...})\n",
      "None\n",
      "FreqDist({'object': 0.038750722961249276, 'user': 0.03007518796992481, 'eye': 0.024869866975130134, 'museum': 0.02371312897628687, 'exhibit': 0.015615962984384037, 'guid': 0.015037593984962405, 'imag': 0.015037593984962405, 'audio': 0.015037593984962405, 'applic': 0.014459224985540775, 'gaze': 0.014459224985540775, ...})\n",
      "None\n",
      "FreqDist({'museum': 0.038204833141542, 'visitor': 0.03762945914844649, 'guid': 0.032681242807825084, 'work': 0.017721518987341773, 'art': 0.012658227848101266, 'exhibit': 0.011737629459148446, 'experi': 0.011047180667433832, 'content': 0.010817031070195627, 'user': 0.009205983889528193, 'visit': 0.00897583429228999, ...})\n",
      "None\n",
      "FreqDist({'tourism': 0.026462085835001113, 'museum': 0.023571269735379142, 'cultur': 0.01890148988214365, 'stay': 0.01890148988214365, 'length': 0.01623304425172337, 'tourist': 0.01423171002890816, 'model': 0.01045141205247943, 'visit': 0.01045141205247943, 'variabl': 0.00911718923726929, 'bolzano': 0.008894818768067601, ...})\n",
      "None\n",
      "FreqDist({'websit': 0.043766978569272565, 'museum': 0.04105040748566254, 'featur': 0.025354663447026863, 'studi': 0.017204950196196802, 'design': 0.017204950196196802, 'aesthet': 0.015997585270147902, 'evalu': 0.015393902807123452, 'particip': 0.014790220344099004, 'search': 0.01448837911258678, 'impress': 0.012073649260488983, ...})\n",
      "None\n",
      "FreqDist({'user': 0.05748031496062992, 'object': 0.03661417322834646, 'sound': 0.025590551181102362, 'museum': 0.025196850393700787, 'artifact': 0.01968503937007874, 'model': 0.016929133858267716, 'retriev': 0.014173228346456693, 'interest': 0.013779527559055118, 'concept': 0.012992125984251968, 'interact': 0.012598425196850394, ...})\n",
      "None\n",
      "FreqDist({'modern': 0.031284606866002214, 'heritag': 0.02602436323366556, 'movement': 0.022425249169435217, 'architectur': 0.019933554817275746, 'build': 0.018272425249169437, 'cultur': 0.016888150609080842, 'peopl': 0.013289036544850499, 'societi': 0.009689922480620155, 'languag': 0.009689922480620155, 'valu': 0.008859357696566999, ...})\n",
      "None\n",
      "FreqDist({'met': 0.025289017341040464, 'visitor': 0.02119460500963391, 'exhibit': 0.02119460500963391, 'eye': 0.01854527938342967, 'museum': 0.011560693641618497, 'studi': 0.011078998073217727, 'data': 0.01083815028901734, 'pattern': 0.010356454720616571, 'track': 0.00939306358381503, 'record': 0.008911368015414258, ...})\n",
      "None\n",
      "FreqDist({'cultur': 0.02912621359223301, 'group': 0.021449537141566947, 'heritag': 0.017611198916233913, 'chines': 0.015804922104312485, 'oversea': 0.014224429893881237, 'place': 0.013998645292391058, 'occ': 0.010611876270038383, 'return': 0.009482953262587492, 'district': 0.009257168661097314, 'resid': 0.008579814856626778, ...})\n",
      "None\n",
      "FreqDist({'light': 0.05503324925475808, 'stereoscop': 0.038981884888786976, 'exhibit': 0.02453565695941298, 'visual': 0.01765650080256822, 'experi': 0.016280669571199266, 'fixat': 0.013987617518917679, 'particip': 0.012841091492776886, 'model': 0.011235955056179775, 'design': 0.011235955056179775, 'colour': 0.010548039440495299, ...})\n",
      "None\n",
      "FreqDist({'program': 0.028644995172191826, 'museum': 0.027035725780495654, 'user': 0.02092050209205021, 'multimedia': 0.017380109430318636, 'visitor': 0.0170582555519794, 'exhibit': 0.0160926939169617, 'interact': 0.01544898616028323, 'evalu': 0.013517862890247827, 'design': 0.010621177985194722, 'applic': 0.009333762471837787, ...})\n",
      "None\n",
      "FreqDist({'museum': 0.03043133103995766, 'visitor': 0.027255887801005556, 'exhibit': 0.024609685101878803, 'experi': 0.02196348240275205, 'learn': 0.02090500132310135, 'eye': 0.016406456734585868, 'track': 0.01243715268589574, 'board': 0.011643291876157714, 'studi': 0.011378671606245038, 'attent': 0.011114051336332363, ...})\n",
      "None\n",
      "FreqDist({'graveyard': 0.03411028993746447, 'virtual': 0.03297328027288232, 'experi': 0.014781125639567936, 'heritag': 0.012507106310403639, 'visit': 0.011938601478112564, 'design': 0.011938601478112564, 'cultur': 0.01137009664582149, 'realiti': 0.01023308698123934, 'particip': 0.009096077316657191, 'user': 0.008527572484366117, ...})\n",
      "None\n",
      "FreqDist({'mobil': 0.030464584920030464, 'user': 0.024371667936024372, 'museum': 0.02284843869002285, 'devic': 0.017517136329017517, 'applic': 0.012947448591012947, 'berlin': 0.012947448591012947, 'content': 0.012947448591012947, 'base': 0.012185833968012186, 'develop': 0.011424219345011425, 'data': 0.010662604722010662, ...})\n",
      "None\n"
     ]
    }
   ],
   "source": [
    "tokenizer = RegexpTokenizer(r\"[a-zA-Z]+\")\n",
    "\n",
    "rand_papers = {}\n",
    "path = \"HW1_rand_txt\"\n",
    "\n",
    "for file_name in os.listdir(path):\n",
    "    with open(path + os.sep + file_name, 'r', encoding = \"utf8\") as f:\n",
    "        rand_papers[file_name.lower()] = tokenizer.tokenize(f.read())\n",
    "        \n",
    "\n",
    "for title, paper in rand_papers.items():\n",
    "    stopwords_filter = [w for w in paper if not w.lower() in stop_words]\n",
    "    casefold = [w.lower() for w in stopwords_filter]\n",
    "    stemmer = PorterStemmer()\n",
    "    stemming = [stemmer.stem(w) for w in casefold]\n",
    "    rand_papers[title] = FreqDist(stemming)\n",
    "    words_amount = sum(rand_papers[title].values())\n",
    "    \n",
    "    for key, value in rand_papers[title].items():\n",
    "        rand_papers[title][key] = value / words_amount\n",
    "    print(rand_papers[title].pprint())\n",
    "    "
   ]
  },
  {
   "cell_type": "code",
   "execution_count": 54,
   "metadata": {},
   "outputs": [
    {
     "name": "stdout",
     "output_type": "stream",
     "text": [
      "a multi-sensory approach to cultural heritage the battle of pavia exhibition.txt:  0.00196174595389897 0.020107896027464444 0.0024521824423737125\n",
      "a novel image based positioning technique using mobile eye tracker for a museum visit.txt:  0.017277486910994764 0.021465968586387434 0.004712041884816754\n",
      "a visitors guide in an active museum presentation.txt:  0.004746152739824536 0.0326477779375809 0.014669926650366748\n",
      "analyzing visitor perceptions of personalization in art museum interactive technology.txt:  0.0018890606216726772 0.06766271681263954 0.0018890606216726772\n",
      "augmented reality for visitors of cultural heritage sites.txt:  0.0033422459893048127 0.004010695187165776 0.002005347593582888\n",
      "augmented reality to reconstruct.txt:  0.008614976805831677 0.0033134526176275677 0.0033134526176275677\n",
      "first results of an augmented reality.txt:  0.006980802792321117 0.004188481675392671 0.0017452006980802793\n",
      "full access to cultural spaces (facs) mapping and evaluating museum access services using mobile eye-tracking technology.txt:  0.0019925989183034445 0.014232849416453175 0.011955593509820665\n",
      "inferring art preferences from gaze exploration in a museum.txt:  0.002324680356450988 0.027121270825261525 0.0015497869043006587\n",
      "museum guide 2.0 – an eye-tracking based personal assistant for museums and exhibits.txt:  0.003470213996529786 0.003470213996529786 0.015037593984962405\n",
      "museum visitor engagement through resonant rich and interactive.txt:  0.00851553509781358 0.03762945914844649 0.032681242807825084\n",
      "visiting a virtual graveyard designing virtual reality cultural heritage experiences_.txt:  0.0022740193291642978 0.005685048322910745 0.0017055144968732233\n"
     ]
    },
    {
     "data": {
      "text/plain": [
       "12"
      ]
     },
     "execution_count": 54,
     "metadata": {},
     "output_type": "execute_result"
    }
   ],
   "source": [
    "sum_all_freq = 0\n",
    "relevant = []\n",
    "for title, freq in rand_papers.items():\n",
    "    sum_of_freq = freq[\"mobil\"] + freq[\"visitor\"] + freq[\"guid\"]\n",
    "#     if sum_of_freq > 0.036:\n",
    "    if freq[\"mobil\"] > 0.0015 and freq[\"visitor\"] > 0.0015 and freq[\"guid\"] > 0.0015:\n",
    "        print(title + \": \", freq[\"mobil\"] , freq[\"visitor\"] , freq[\"guid\"])\n",
    "        relevant.append(title)\n",
    "    sum_all_freq += sum_of_freq\n",
    "len(relevant)"
   ]
  },
  {
   "cell_type": "code",
   "execution_count": 43,
   "metadata": {},
   "outputs": [
    {
     "name": "stdout",
     "output_type": "stream",
     "text": [
      "0.011643908928271074 0.013532317007905319 0.014656187403477117\n"
     ]
    }
   ],
   "source": [
    "print(fdist_stemming[\"mobil\"], fdist_stemming[\"visitor\"], fdist_stemming[\"guid\"])"
   ]
  },
  {
   "cell_type": "code",
   "execution_count": 27,
   "metadata": {
    "scrolled": true
   },
   "outputs": [
    {
     "data": {
      "text/plain": [
       "[('3d colour imaging for cultural heritage artefacts.txt',\n",
       "  FreqDist({'imag': 0.024328859060402684, 'object': 0.022651006711409395, 'museum': 0.01971476510067114, 'scan': 0.01552013422818792, 'colour': 0.013842281879194632, 'record': 0.012164429530201342, 'laser': 0.010486577181208054, 'conserv': 0.010067114093959731, 'technolog': 0.010067114093959731, 'digit': 0.00964765100671141, ...})),\n",
       " ('a 3d audio augmented reality system for a cultural heritage management and fruition.txt',\n",
       "  FreqDist({'user': 0.028890959925442685, 'sound': 0.023299161230195712, 'audio': 0.02050326188257223, 'interact': 0.01537744641192917, 'headphon': 0.010717614165890028, 'orient': 0.0097856477166822, 'posit': 0.009319664492078284, 'head': 0.008387698042870456, 'realiti': 0.007921714818266543, 'figur': 0.007921714818266543, ...})),\n",
       " ('a critical examination of presence applied to cultural heritage.txt',\n",
       "  FreqDist({'presenc': 0.035202086049543675, 'cultur': 0.033246414602346806, 'heritag': 0.027162103433289873, 'virtual': 0.024989135158626684, 'environ': 0.018035636679704477, 'interact': 0.012385919165580182, 'learn': 0.011516731855714906, 'evalu': 0.010212950890916993, 'social': 0.00847457627118644, 'understand': 0.00651890482398957, ...})),\n",
       " ('a framework for guiding the museum tours personalization.txt',\n",
       "  FreqDist({'person': 0.04009052699644358, 'user': 0.02651147752990624, 'recommend': 0.019398642095053348, 'base': 0.016165535079211122, 'visitor': 0.013579049466537343, 'learn': 0.012932428063368898, 'tour': 0.01196249595861623, 'evalu': 0.01196249595861623, 'set': 0.011315874555447785, 'prefer': 0.011315874555447785, ...})),\n",
       " ('a multi-sensory approach to cultural heritage the battle of pavia exhibition.txt',\n",
       "  FreqDist({'exhibit': 0.020107896027464444, 'visitor': 0.020107896027464444, 'eye': 0.01716527709661599, 'museum': 0.016674840608141245, 'interact': 0.014713094654242276, 'tapestri': 0.014713094654242276, 'pavia': 0.014222658165767533, 'track': 0.010789602746444336, 'battl': 0.010299166257969592, 'figur': 0.010299166257969592, ...})),\n",
       " ('a novel image based positioning technique using mobile eye tracker for a museum visit.txt',\n",
       "  FreqDist({'imag': 0.02774869109947644, 'exhibit': 0.025654450261780103, 'visitor': 0.021465968586387434, 'eye': 0.020418848167539267, 'museum': 0.0193717277486911, 'mobil': 0.017277486910994764, 'user': 0.015706806282722512, 'match': 0.015706806282722512, 'posit': 0.013612565445026177, 'object': 0.012565445026178011, ...})),\n",
       " ('a perspective on systems design in the digitisation of intangible cultural heritage_.txt',\n",
       "  FreqDist({'design': 0.029525032092426188, 'indigen': 0.02053915275994865, 'commun': 0.017115960633290545, 'ich': 0.01668806161745828, 'digit': 0.015832263585793753, 'artefact': 0.015832263585793753, 'cultur': 0.014976465554129225, 'heritag': 0.011553273427471117, 'user': 0.011553273427471117, 'technolog': 0.011553273427471117, ...})),\n",
       " ('a point-of-interest directory for mobile tourists in abuja, nigeria.txt',\n",
       "  FreqDist({'mobil': 0.03891625615763547, 'tourist': 0.022167487684729065, 'tourism': 0.022167487684729065, 'devic': 0.017733990147783252, 'applic': 0.017241379310344827, 'user': 0.014778325123152709, 'technolog': 0.012315270935960592, 'figur': 0.012315270935960592, 'servic': 0.011330049261083743, 'nigeria': 0.009852216748768473, ...})),\n",
       " ('a study on the three-dimensional transformation strategy.txt',\n",
       "  FreqDist({'interpret': 0.060864922584089695, 'translat': 0.026695141484249868, 'languag': 0.024559530165509876, 'cultur': 0.021356113187399894, 'haihunh': 0.015483182060864922, 'machin': 0.014949279231179925, 'tomb': 0.013881473571809931, 'guid': 0.012813667912439935, 'site': 0.012813667912439935, 'transform': 0.011211959423384944, ...})),\n",
       " ('a survey of and site treatment plan for the belle creek mounds ar.txt',\n",
       "  FreqDist({'mound': 0.032942993179770945, 'site': 0.013190065628619225, 'soil': 0.011452837472654742, 'survey': 0.0104233689357869, 'data': 0.01023034358512418, 'archeolog': 0.01016600180156994, 'locat': 0.009844292883798738, 'grid': 0.009651267533136018, 'portion': 0.009136533264702098, 'area': 0.008943507914039377, ...})),\n",
       " ('a survey of map-based mobile guides.txt',\n",
       "  FreqDist({'mobil': 0.03926096997690531, 'user': 0.03695150115473441, 'system': 0.03464203233256351, 'guid': 0.020785219399538105, 'servic': 0.020785219399538105, 'map': 0.016166281755196306, 'comput': 0.013856812933025405, 'chapter': 0.013856812933025405, 'base': 0.011547344110854504, 'provid': 0.011547344110854504, ...})),\n",
       " ('a visitors guide in an active museum presentation.txt',\n",
       "  FreqDist({'visitor': 0.0326477779375809, 'museum': 0.02588810585358838, 'user': 0.02229253559614555, 'present': 0.016251977563641593, 'visit': 0.015389040701855315, 'guid': 0.014669926650366748, 'commun': 0.011505824823817058, 'group': 0.010067596720839926, 'exhibit': 0.009348482669351359, 'model': 0.008773191428160507, ...})),\n",
       " (\"adoption and use of emerging cultural technologies in china's museums.txt\",\n",
       "  FreqDist({'museum': 0.03152551429334758, 'exhibit': 0.029655356665776116, 'digit': 0.024044883783061716, 'cultur': 0.02003740315255143, 'technolog': 0.01923590702644937, 'visitor': 0.014694095645204382, 'user': 0.014159764894469677, 'engag': 0.014159764894469677, 'china': 0.012823938017632914, 'time': 0.012556772642265563, ...})),\n",
       " ('analyzing visitor perceptions of personalization in art museum interactive technology.txt',\n",
       "  FreqDist({'visitor': 0.06766271681263954, 'museum': 0.053408895758200244, 'art': 0.04121586810922205, 'person': 0.03863987635239567, 'technolog': 0.0381246780010304, 'interact': 0.02575991756826378, 'experi': 0.01648634724368882, 'percept': 0.01287995878413189, 'collect': 0.010990898162459213, 'strategi': 0.010819165378670788, ...})),\n",
       " ('augmented reality for visitors of cultural heritage sites.txt',\n",
       "  FreqDist({'imag': 0.046122994652406414, 'user': 0.020053475935828877, 'site': 0.01804812834224599, 'augment': 0.01537433155080214, 'track': 0.01537433155080214, 'realiti': 0.012032085561497326, 'registr': 0.011363636363636364, 'base': 0.0106951871657754, 'techniqu': 0.0106951871657754, 'transform': 0.0106951871657754, ...})),\n",
       " ('augmented reality to reconstruct.txt',\n",
       "  FreqDist({'realiti': 0.03180914512922465, 'applic': 0.03180914512922465, 'augment': 0.025182239893969515, 'model': 0.01855533465871438, 'interfac': 0.017892644135188866, 'virtual': 0.015241882041086813, 'heritag': 0.013916500994035786, 'site': 0.013916500994035786, 'figur': 0.012591119946984758, 'sri': 0.011928429423459244, ...})),\n",
       " ('automatic analysis of in-the-wild mobile eye-tracking experiments using object, face and person detection.txt',\n",
       "  FreqDist({'object': 0.025945144551519646, 'eye': 0.02260934025203855, 'detect': 0.020756115641215715, 'model': 0.012601927353595256, 'experi': 0.01223128243143069, 'face': 0.01223128243143069, 'data': 0.011860637509266123, 'imag': 0.010378057820607857, 'analysi': 0.01000741289844329, 'track': 0.01000741289844329, ...})),\n",
       " ('bringing technology back in a critique of the institutionalist perspective on museums.txt',\n",
       "  FreqDist({'museum': 0.06802904006453347, 'technolog': 0.03872008604463566, 'organ': 0.02285560634579188, 'art': 0.02285560634579188, 'institut': 0.015595590212422693, 'practic': 0.011831137402527562, 'social': 0.010217800484001076, 'organiz': 0.00860446356547459, 'sociolog': 0.006991126646948105, 'design': 0.006991126646948105, ...})),\n",
       " ('contemporary issues in cultural heritage tourism.txt',\n",
       "  FreqDist({'tourism': 0.04004433975336012, 'heritag': 0.03651101565747541, 'cultur': 0.023971179160315922, 'univers': 0.009560759318276293, 'develop': 0.008937231536649578, 'studi': 0.00796729943189691, 'manag': 0.007482333379520576, 'intern': 0.006858805597893862, 'journal': 0.006304558680892337, 'volunt': 0.005681030899265623, ...})),\n",
       " ('context-aware risk management for architectural heritage using historic building information modeling and virtual reality_.txt',\n",
       "  FreqDist({'heritag': 0.036036036036036036, 'manag': 0.03487358326068003, 'risk': 0.024411508282476024, 'vr': 0.023249055507120024, 'applic': 0.02208660273176402, 'model': 0.015111886079628016, 'hbim': 0.013658820110433014, 'context': 0.013368206916594013, 'architectur': 0.013368206916594013, 'cultur': 0.013077593722755012, ...})),\n",
       " ('design and development of taeneb city guide - from paper maps and guidebooks to electronic guides.txt',\n",
       "  FreqDist({'user': 0.0235467255334805, 'map': 0.022810890360559236, 'tourist': 0.022810890360559236, 'attract': 0.02207505518763797, 'guid': 0.016188373804267846, 'citi': 0.01545253863134658, 'review': 0.014716703458425313, 'display': 0.013980868285504048, 'devic': 0.012509197939661517, 'restaur': 0.012509197939661517, ...})),\n",
       " ('developing a typology of tourist harassm.txt',\n",
       "  FreqDist({'tourist': 0.04638439581351094, 'harass': 0.044957183634633684, 'tourism': 0.022835394862036156, 'studi': 0.014747859181731684, 'travel': 0.012369172216936251, 'alrawadieh': 0.010228353948620362, 'site': 0.009039010466222646, 'destin': 0.009039010466222646, 'experi': 0.009039010466222646, 'journal': 0.008563273073263558, ...})),\n",
       " ('differences of field dependent independent gamers on cultural heritage playing preliminary findings of an eye–tracking study.txt',\n",
       "  FreqDist({'game': 0.030922431865828093, 'fixat': 0.027253668763102725, 'player': 0.020964360587002098, 'fi': 0.018343815513626835, 'fd': 0.01781970649895178, 'cognit': 0.01729559748427673, 'test': 0.016771488469601678, 'differ': 0.015723270440251572, 'style': 0.014150943396226415, 'impact': 0.012578616352201259, ...})),\n",
       " (\"do game designers' decisions related to visual activites affect knowledge acquisition in cultural heritage games.txt\",\n",
       "  FreqDist({'doi': 0.026503802719520627, 'game': 0.025120995621110854, 'cognit': 0.017861258354459553, 'visual': 0.017400322654989628, 'cultur': 0.015556579857109933, 'fd': 0.013828070984097718, 'org': 0.013712837059230237, 'http': 0.013597603134362757, 'heritag': 0.013482369209495275, 'item': 0.012099562111085503, ...})),\n",
       " ('exploring cultural heritage using virtual reality_.txt',\n",
       "  FreqDist({'virtual': 0.034851621808143544, 'environ': 0.018978605935127676, 'spatial': 0.01518288474810214, 'build': 0.014492753623188406, 'cognit': 0.013112491373360938, 'realiti': 0.012077294685990338, 'user': 0.01069703243616287, 'main': 0.010006901311249138, 'squar': 0.00966183574879227, 'model': 0.009316770186335404, ...})),\n",
       " ('eye tracking for locomotion prediction in redirected walking.txt',\n",
       "  FreqDist({'predict': 0.025506555423122766, 'user': 0.020500595947556616, 'target': 0.017878426698450536, 'condit': 0.0166865315852205, 'environ': 0.01597139451728248, 'predictor': 0.014779499404052444, 'eye': 0.014541120381406437, 'track': 0.014302741358760428, 'base': 0.013110846245530394, 'path': 0.010727056019070322, ...})),\n",
       " ('first results of an augmented reality.txt',\n",
       "  FreqDist({'user': 0.027923211169284468, 'site': 0.019197207678883072, 'augment': 0.013263525305410123, 'imag': 0.012216404886561954, 'present': 0.01012216404886562, 'base': 0.009075043630017453, 'archeoguid': 0.008726003490401396, 'mu': 0.008376963350785341, 'tour': 0.008027923211169284, 'render': 0.007678883071553229, ...})),\n",
       " ('full access to cultural spaces (facs) mapping and evaluating museum access services using mobile eye-tracking technology.txt',\n",
       "  FreqDist({'museum': 0.036720751494449186, 'access': 0.03131226871619698, 'visitor': 0.014232849416453175, 'servic': 0.013663535439795047, 'guid': 0.011955593509820665, 'univers': 0.008539709649871904, 'technolog': 0.007970395673213778, 'panel': 0.007685738684884714, 'text': 0.007685738684884714, 'project': 0.00654711073156846, ...})),\n",
       " ('gaze guided object recognition using a head-mounted eye tracker.txt',\n",
       "  FreqDist({'object': 0.036694754009241645, 'gaze': 0.026094047295460724, 'recognit': 0.018755096493612396, 'method': 0.016580592552324, 'user': 0.015493340581679805, 'eye': 0.014949714596357706, 'featur': 0.014949714596357706, 'imag': 0.01331883664039141, 'base': 0.013047023647730362, 'xation': 0.012231584669747214, ...})),\n",
       " ('geotourism as a tool for learning.txt',\n",
       "  FreqDist({'geopark': 0.017988252569750368, 'sea': 0.015051395007342145, 'coastal': 0.013766519823788546, 'site': 0.011563876651982379, 'geosit': 0.010829662261380322, 'figur': 0.010279001468428781, 'level': 0.009911894273127754, 'area': 0.009544787077826725, 'resourc': 0.00881057268722467, 'di': 0.008627019089574155, ...})),\n",
       " (\"improving museum visitors' quality of experience through intelligent recommendations a visiting style-based approach.txt\",\n",
       "  FreqDist({'exhibit': 0.04633360193392425, 'visitor': 0.04593070104754231, 'museum': 0.0346494762288477, 'recommend': 0.030620467365028204, 'visit': 0.022965350523771154, 'qoe': 0.01974214343271555, 'model': 0.015713134568896052, 'room': 0.014907332796132152, 'algorithm': 0.0136986301369863, 'user': 0.01248992747784045, ...})),\n",
       " ('in-sights into mobile learning  an exploration of mobile eye tracking methodology for  learning in museums.txt',\n",
       "  FreqDist({'eye': 0.054404145077720206, 'track': 0.034974093264248704, 'mobil': 0.026338514680483593, 'exhibit': 0.023747841105354058, 'data': 0.017271157167530225, 'fixat': 0.016407599309153715, 'process': 0.015112262521588947, 'movement': 0.015112262521588947, 'learn': 0.01468048359240069, 'studi': 0.013385146804835924, ...})),\n",
       " ('inferring art preferences from gaze exploration in a museum.txt',\n",
       "  FreqDist({'visitor': 0.027121270825261525, 'museum': 0.02402169701666021, 'time': 0.014722975590856257, 'visit': 0.014722975590856257, 'studi': 0.013560635412630763, 'paint': 0.013560635412630763, 'data': 0.0131731886865556, 'point': 0.010461061604029445, 'artwork': 0.010073614877954282, 'eye': 0.010073614877954282, ...})),\n",
       " ('informing the design of web interfaces to museum collections.txt',\n",
       "  FreqDist({'site': 0.0348221044663134, 'user': 0.028009084027252083, 'search': 0.021196063588190765, 'collect': 0.017789553368660106, 'list': 0.015897047691143074, 'museum': 0.015518546555639667, 'evalu': 0.014383043149129448, 'link': 0.013626040878122634, 'databas': 0.013626040878122634, 'web': 0.011733535200605601, ...})),\n",
       " ('linguistics in a science museum_ integrating research, teaching, and outreach at the language sciences research lab.txt',\n",
       "  FreqDist({'languag': 0.03897158322056834, 'scienc': 0.02733423545331529, 'linguist': 0.02733423545331529, 'museum': 0.016779431664411367, 'lab': 0.012719891745602166, 'visitor': 0.011637347767253045, 'particip': 0.010013531799729363, 'student': 0.009472259810554804, 'outreach': 0.009201623815967524, 'compass': 0.009201623815967524, ...})),\n",
       " ('measuring perceived beauty of the great barrier reef using eye-tracking technology.txt',\n",
       "  FreqDist({'beauti': 0.03128179043743642, 'aesthet': 0.020854526958290945, 'eye': 0.02034587995930824, 'pictur': 0.015513733468972533, 'track': 0.014750762970498474, 'measur': 0.012970498474059003, 'tourism': 0.01271617497456765, 'imag': 0.009918616480162767, 'attent': 0.009409969481180062, 'natur': 0.009409969481180062, ...})),\n",
       " ('mobile augmented reality for cultural heritage following the footsteps of ovid among different locations in europe.txt',\n",
       "  FreqDist({'applic': 0.023696682464454975, 'realiti': 0.013371699390656737, 'ar': 0.012863913337846988, 'heritag': 0.011679079214624239, 'augment': 0.011340555179417738, 'ovid': 0.010155721056194989, 'mobil': 0.008293838862559242, 'cultur': 0.008124576844955992, 'experi': 0.007955314827352742, 'user': 0.007955314827352742, ...})),\n",
       " ('museum guide 2.0 – an eye-tracking based personal assistant for museums and exhibits.txt',\n",
       "  FreqDist({'object': 0.038750722961249276, 'user': 0.03007518796992481, 'eye': 0.024869866975130134, 'museum': 0.02371312897628687, 'exhibit': 0.015615962984384037, 'guid': 0.015037593984962405, 'imag': 0.015037593984962405, 'audio': 0.015037593984962405, 'applic': 0.014459224985540775, 'gaze': 0.014459224985540775, ...})),\n",
       " ('museum visitor engagement through resonant rich and interactive.txt',\n",
       "  FreqDist({'museum': 0.038204833141542, 'visitor': 0.03762945914844649, 'guid': 0.032681242807825084, 'work': 0.017721518987341773, 'art': 0.012658227848101266, 'exhibit': 0.011737629459148446, 'experi': 0.011047180667433832, 'content': 0.010817031070195627, 'user': 0.009205983889528193, 'visit': 0.00897583429228999, ...})),\n",
       " ('museum visitors can be regarded as specific cultural tourists a length of stay analysis.txt',\n",
       "  FreqDist({'tourism': 0.026462085835001113, 'museum': 0.023571269735379142, 'cultur': 0.01890148988214365, 'stay': 0.01890148988214365, 'length': 0.01623304425172337, 'tourist': 0.01423171002890816, 'model': 0.01045141205247943, 'visit': 0.01045141205247943, 'variabl': 0.00911718923726929, 'bolzano': 0.008894818768067601, ...})),\n",
       " ('museum website features, aesthetics, and visitors’ impressions a case study of four museums.txt',\n",
       "  FreqDist({'websit': 0.043766978569272565, 'museum': 0.04105040748566254, 'featur': 0.025354663447026863, 'studi': 0.017204950196196802, 'design': 0.017204950196196802, 'aesthet': 0.015997585270147902, 'evalu': 0.015393902807123452, 'particip': 0.014790220344099004, 'search': 0.01448837911258678, 'impress': 0.012073649260488983, ...})),\n",
       " ('ontology and rule based retrieval of sound objects in augmented audio reality system for museum visitors.txt',\n",
       "  FreqDist({'user': 0.05748031496062992, 'object': 0.03661417322834646, 'sound': 0.025590551181102362, 'museum': 0.025196850393700787, 'artifact': 0.01968503937007874, 'model': 0.016929133858267716, 'retriev': 0.014173228346456693, 'interest': 0.013779527559055118, 'concept': 0.012992125984251968, 'interact': 0.012598425196850394, ...})),\n",
       " ('perception of the modern movement in architecture as cultural heritage.txt',\n",
       "  FreqDist({'modern': 0.031284606866002214, 'heritag': 0.02602436323366556, 'movement': 0.022425249169435217, 'architectur': 0.019933554817275746, 'build': 0.018272425249169437, 'cultur': 0.016888150609080842, 'peopl': 0.013289036544850499, 'societi': 0.009689922480620155, 'languag': 0.009689922480620155, 'valu': 0.008859357696566999, ...})),\n",
       " ('potentials and limitations of mobile eye tracking in visitor studies_ evidence from field research at two museum exhibitions in germany.txt',\n",
       "  FreqDist({'met': 0.025289017341040464, 'visitor': 0.02119460500963391, 'exhibit': 0.02119460500963391, 'eye': 0.01854527938342967, 'museum': 0.011560693641618497, 'studi': 0.011078998073217727, 'data': 0.01083815028901734, 'pattern': 0.010356454720616571, 'track': 0.00939306358381503, 'record': 0.008911368015414258, ...})),\n",
       " ('seeking lost memories application of a new visual methodology for heritage protection.txt',\n",
       "  FreqDist({'cultur': 0.02912621359223301, 'group': 0.021449537141566947, 'heritag': 0.017611198916233913, 'chines': 0.015804922104312485, 'oversea': 0.014224429893881237, 'place': 0.013998645292391058, 'occ': 0.010611876270038383, 'return': 0.009482953262587492, 'district': 0.009257168661097314, 'resid': 0.008579814856626778, ...})),\n",
       " ('the effect of visual attention on stereoscopic lighting of museum ceramic exhibits_ a virtual environment mixed with eye-tracking.txt',\n",
       "  FreqDist({'light': 0.05503324925475808, 'stereoscop': 0.038981884888786976, 'exhibit': 0.02453565695941298, 'visual': 0.01765650080256822, 'experi': 0.016280669571199266, 'fixat': 0.013987617518917679, 'particip': 0.012841091492776886, 'model': 0.011235955056179775, 'design': 0.011235955056179775, 'colour': 0.010548039440495299, ...})),\n",
       " ('the evaluation of museum multimedia applications lessons from research.txt',\n",
       "  FreqDist({'program': 0.028644995172191826, 'museum': 0.027035725780495654, 'user': 0.02092050209205021, 'multimedia': 0.017380109430318636, 'visitor': 0.0170582555519794, 'exhibit': 0.0160926939169617, 'interact': 0.01544898616028323, 'evalu': 0.013517862890247827, 'design': 0.010621177985194722, 'applic': 0.009333762471837787, ...})),\n",
       " ('the museum learning experience through the visitors _ eyes_ an eye tracking exploration of the physical context.txt',\n",
       "  FreqDist({'museum': 0.03043133103995766, 'visitor': 0.027255887801005556, 'exhibit': 0.024609685101878803, 'experi': 0.02196348240275205, 'learn': 0.02090500132310135, 'eye': 0.016406456734585868, 'track': 0.01243715268589574, 'board': 0.011643291876157714, 'studi': 0.011378671606245038, 'attent': 0.011114051336332363, ...})),\n",
       " ('visiting a virtual graveyard designing virtual reality cultural heritage experiences_.txt',\n",
       "  FreqDist({'graveyard': 0.03411028993746447, 'virtual': 0.03297328027288232, 'experi': 0.014781125639567936, 'heritag': 0.012507106310403639, 'visit': 0.011938601478112564, 'design': 0.011938601478112564, 'cultur': 0.01137009664582149, 'realiti': 0.01023308698123934, 'particip': 0.009096077316657191, 'user': 0.008527572484366117, ...})),\n",
       " ('wireless museum information systems.txt',\n",
       "  FreqDist({'mobil': 0.030464584920030464, 'user': 0.024371667936024372, 'museum': 0.02284843869002285, 'devic': 0.017517136329017517, 'applic': 0.012947448591012947, 'berlin': 0.012947448591012947, 'content': 0.012947448591012947, 'base': 0.012185833968012186, 'develop': 0.011424219345011425, 'data': 0.010662604722010662, ...}))]"
      ]
     },
     "execution_count": 27,
     "metadata": {},
     "output_type": "execute_result"
    }
   ],
   "source": [
    "sum_all_freq = 0\n",
    "for title, freq in rand_papers.items():\n",
    "    sum_of_freq = freq[\"mobil\"] + freq[\"visitor\"] + freq[\"guid\"]\n",
    "    print(title + \": \", sum_of_freq)\n",
    "    sum_all_freq += sum_of_freq\n",
    "sum_all_freq/50"
   ]
  },
  {
   "cell_type": "code",
   "execution_count": 40,
   "metadata": {},
   "outputs": [
    {
     "data": {
      "text/plain": [
       "0.012224374255065555"
      ]
     },
     "execution_count": 40,
     "metadata": {},
     "output_type": "execute_result"
    }
   ],
   "source": [
    "# for initial language model\n",
    "fdist[\"mobile\"]+fdist[\"visitors\"]+fdist[\"guide\"]\n",
    "\n",
    "#for language model after stop words removal\n",
    "\n",
    "# for language model after case folding\n",
    "\n",
    "# for language model after stemming"
   ]
  },
  {
   "cell_type": "code",
   "execution_count": 46,
   "metadata": {},
   "outputs": [
    {
     "data": {
      "text/plain": [
       "FreqDist({'museum': 2753, 'mobile': 2374, 'guide': 2182, 'user': 2113, 'visitors': 2008, 'visitor': 1227, 'al': 1044, 'Museum': 1026, 'time': 1021, 'guides': 973, ...})"
      ]
     },
     "execution_count": 46,
     "metadata": {},
     "output_type": "execute_result"
    }
   ],
   "source": [
    "sum(fdist_stopwords.values())"
   ]
  },
  {
   "cell_type": "code",
   "execution_count": 1,
   "metadata": {},
   "outputs": [
    {
     "name": "stdout",
     "output_type": "stream",
     "text": [
      "Hello Github\n"
     ]
    }
   ],
   "source": []
  },
  {
   "cell_type": "code",
   "execution_count": null,
   "metadata": {},
   "outputs": [],
   "source": []
  }
 ],
 "metadata": {
  "kernelspec": {
   "display_name": "Python 3",
   "language": "python",
   "name": "python3"
  },
  "language_info": {
   "codemirror_mode": {
    "name": "ipython",
    "version": 3
   },
   "file_extension": ".py",
   "mimetype": "text/x-python",
   "name": "python",
   "nbconvert_exporter": "python",
   "pygments_lexer": "ipython3",
   "version": "3.8.3"
  }
 },
 "nbformat": 4,
 "nbformat_minor": 4
}
