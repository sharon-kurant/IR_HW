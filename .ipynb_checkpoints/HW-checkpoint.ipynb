{
 "cells": [
  {
   "cell_type": "code",
   "execution_count": 143,
   "metadata": {},
   "outputs": [
    {
     "name": "stderr",
     "output_type": "stream",
     "text": [
      "[nltk_data] Downloading package punkt to\n",
      "[nltk_data]     C:\\Users\\User\\AppData\\Roaming\\nltk_data...\n",
      "[nltk_data]   Package punkt is already up-to-date!\n"
     ]
    }
   ],
   "source": [
    "import os\n",
    "import re, csv, string, pandas as pd\n",
    "import matplotlib.pyplot as plt\n",
    "import numpy as np \n",
    "import nltk\n",
    "nltk.download('punkt')\n",
    "from collections import defaultdict\n",
    "from numpy import loadtxt\n",
    "from nltk import RegexpTokenizer\n",
    "from nltk.stem import WordNetLemmatizer\n",
    "from nltk.stem.porter import *\n",
    "from nltk.probability import FreqDist\n",
    "from collections import Counter\n",
    "from sklearn.metrics import accuracy_score\n",
    "from sklearn.model_selection import train_test_split\n",
    "from sklearn.neighbors import KNeighborsClassifier\n",
    "from sklearn.svm import SVC\n",
    "from sklearn.naive_bayes import MultinomialNB\n",
    "from sklearn.ensemble import RandomForestClassifier\n",
    "from sklearn.model_selection import GridSearchCV\n",
    "from sklearn.cluster import KMeans\n",
    "from scipy.spatial.distance import cdist\n",
    "from sklearn.model_selection import cross_val_score\n",
    "from sklearn.feature_extraction.text import CountVectorizer\n",
    "from sklearn.feature_extraction.text import TfidfTransformer\n",
    "from sklearn.pipeline import Pipeline\n"
   ]
  },
  {
   "cell_type": "code",
   "execution_count": 2,
   "metadata": {},
   "outputs": [],
   "source": [
    "tokenizer = RegexpTokenizer(r\"[a-zA-Z]+\")\n",
    "fdist = FreqDist()\n",
    "\n",
    "dictionary = set()\n",
    "papers = {}\n",
    "path = \"HW1_TXT_files\"\n",
    "stop_words = []\n",
    "all_words = []"
   ]
  },
  {
   "cell_type": "code",
   "execution_count": 3,
   "metadata": {},
   "outputs": [
    {
     "name": "stdout",
     "output_type": "stream",
     "text": [
      "Amount of words in corpus is  536960\n",
      "Initial dictionary size is  26089\n"
     ]
    }
   ],
   "source": [
    "for file_name in os.listdir(path):\n",
    "    with open(path + os.sep + file_name, 'r', encoding = \"utf8\") as f:\n",
    "        papers[file_name.lower()] = tokenizer.tokenize(f.read())\n",
    "        for word in papers[file_name.lower()]:\n",
    "            fdist[word] += 1\n",
    "            all_words.append(word)\n",
    "        dictionary = dictionary.union(set(papers[file_name.lower()]))\n",
    "\n",
    "amount = sum(fdist.values())\n",
    "print(\"Amount of words in corpus is \", amount)    \n",
    "print(\"Initial dictionary size is \", len(dictionary))\n",
    "\n",
    "# generate language model\n",
    "for key, value in fdist.items():\n",
    "    fdist[key] = value / amount\n",
    "\n",
    "with open(\"stop_words_english.txt\", \"r\", encoding = \"utf8\") as stop_words_file:\n",
    "    stop_words = stop_words_file.read().split(\"\\n\")"
   ]
  },
  {
   "cell_type": "code",
   "execution_count": 4,
   "metadata": {},
   "outputs": [],
   "source": [
    "dictionary_stopwords = set()\n",
    "dictionary_casefold = set()\n",
    "dictionary_stemming = set()"
   ]
  },
  {
   "cell_type": "code",
   "execution_count": 5,
   "metadata": {},
   "outputs": [],
   "source": [
    "#stop words removal\n",
    "stopwords_filtered_list = [w for w in all_words if not w.lower() in stop_words]\n",
    "dictionary_stopwords = set(stopwords_filtered_list)\n",
    "# generate lang model\n",
    "\n",
    "fdist_stopwords = FreqDist(stopwords_filtered_list)\n",
    "stopwords_amount = sum(fdist_stopwords.values())\n",
    "for key, value in fdist_stopwords.items():\n",
    "    fdist_stopwords[key] = value / stopwords_amount"
   ]
  },
  {
   "cell_type": "code",
   "execution_count": 6,
   "metadata": {},
   "outputs": [],
   "source": [
    "# case folding\n",
    "casefold = [w.lower() for w in stopwords_filtered_list]\n",
    "dictionary_casefold = set(casefold)\n",
    "\n",
    "#generate lang model\n",
    "fdist_casefold = FreqDist(casefold)\n",
    "casefold_amount = sum(fdist_casefold.values())\n",
    "for key, value in fdist_casefold.items():\n",
    "    fdist_casefold[key] = value / casefold_amount"
   ]
  },
  {
   "cell_type": "code",
   "execution_count": 7,
   "metadata": {},
   "outputs": [],
   "source": [
    "# stemming\n",
    "stemmer = PorterStemmer()\n",
    "stemming = [stemmer.stem(w) for w in casefold]\n",
    "dictionary_stemming = set(stemming)\n",
    "\n",
    "# generate stemmed lang model\n",
    "fdist_stemming = FreqDist(stemming)\n",
    "stemming_amount = sum(fdist_stemming.values())\n",
    "for key, value in fdist_stemming.items():\n",
    "    fdist_stemming[key] = value / stemming_amount"
   ]
  },
  {
   "cell_type": "code",
   "execution_count": 8,
   "metadata": {},
   "outputs": [],
   "source": [
    "for title, paper in papers.items():\n",
    "    stopwords_filtered_list = [w for w in paper if not w.lower() in stop_words]\n",
    "    casefold = [w.lower() for w in stopwords_filtered_list]\n",
    "    stemmer = PorterStemmer()\n",
    "    stemming = [stemmer.stem(w) for w in casefold]\n",
    "    papers[title] = stemming"
   ]
  },
  {
   "cell_type": "code",
   "execution_count": 9,
   "metadata": {
    "scrolled": true
   },
   "outputs": [
    {
     "name": "stdout",
     "output_type": "stream",
     "text": [
      "initial Dictionary size is  26089\n",
      "Dictionary size after stop words removal is  24872\n",
      "Dictionary size after case folding is  20064\n",
      "Dictionary size after stemming is  14363\n"
     ]
    }
   ],
   "source": [
    "print(\"initial Dictionary size is \", len(dictionary))\n",
    "\n",
    "print(\"Dictionary size after stop words removal is \", len(dictionary_stopwords))\n",
    "\n",
    "print(\"Dictionary size after case folding is \", len(dictionary_casefold))\n",
    "\n",
    "print(\"Dictionary size after stemming is \", len(dictionary_stemming))"
   ]
  },
  {
   "cell_type": "code",
   "execution_count": 10,
   "metadata": {
    "scrolled": false
   },
   "outputs": [
    {
     "name": "stdout",
     "output_type": "stream",
     "text": [
      "initial language model\n",
      "FreqDist({'the': 0.062270932657926104, 'of': 0.03338609952324195, 'and': 0.028834550059594757, 'to': 0.021897348033373062, 'in': 0.018723927294398094, 'a': 0.017740613825983312, 'is': 0.009320992252681765, 'for': 0.009266984505363528, 'that': 0.009108685935637665, 'The': 0.007769666269368296, ...})\n",
      "\n",
      "language model after stop words removal\n",
      "FreqDist({'museum': 0.010523861221119589, 'mobile': 0.00907506230982125, 'guide': 0.008341106133121301, 'user': 0.008077340632119756, 'visitors': 0.007675958347986973, 'visitor': 0.004690438691723115, 'al': 0.003990886710805976, 'Museum': 0.003922078319240355, 'time': 0.003902964877138794, 'guides': 0.0037194758329638067, ...})\n",
      "\n",
      "language model after case folding\n",
      "FreqDist({'museum': 0.014656187403477117, 'mobile': 0.01151776021040077, 'guide': 0.009690515145491522, 'user': 0.009575834492882154, 'visitors': 0.008417559901527547, 'visitor': 0.005114757106377773, 'guides': 0.004384623618098136, 'context': 0.0042814110307497055, 'al': 0.004021468218168473, 'time': 0.004017645529748161, ...})\n",
      "\n",
      "language model after stemming\n",
      "FreqDist({'museum': 0.01736265080505818, 'guid': 0.014656187403477117, 'visitor': 0.013532317007905319, 'user': 0.013104175904830349, 'mobil': 0.011643908928271074, 'exhibit': 0.009828131928622762, 'visit': 0.005993975443049588, 'applic': 0.005837245217816786, 'interact': 0.005730209942048044, 'studi': 0.004862459670637166, ...})\n"
     ]
    }
   ],
   "source": [
    "print(\"initial language model\")\n",
    "fdist.pprint()\n",
    "\n",
    "print(\"\\nlanguage model after stop words removal\")\n",
    "fdist_stopwords.pprint()\n",
    "\n",
    "print(\"\\nlanguage model after case folding\")\n",
    "fdist_casefold.pprint()\n",
    "\n",
    "print(\"\\nlanguage model after stemming\")\n",
    "fdist_stemming.pprint()"
   ]
  },
  {
   "cell_type": "markdown",
   "metadata": {},
   "source": [
    "# part2"
   ]
  },
  {
   "cell_type": "code",
   "execution_count": 11,
   "metadata": {},
   "outputs": [],
   "source": [
    "tokenizer = RegexpTokenizer(r\"[a-zA-Z]+\")\n",
    "\n",
    "rand_papers = {}\n",
    "path = \"HW1_rand_txt\"\n",
    "\n",
    "for file_name in os.listdir(path):\n",
    "    with open(path + os.sep + file_name, 'r', encoding = \"utf8\") as f:\n",
    "        rand_papers[file_name.lower()] = tokenizer.tokenize(f.read())\n",
    "        \n",
    "\n",
    "for title, paper in rand_papers.items():\n",
    "    stopwords_filtered_list = [w for w in paper if not w.lower() in stop_words]\n",
    "    casefold = [w.lower() for w in stopwords_filtered_list]\n",
    "    stemmer = PorterStemmer()\n",
    "    stemming = [stemmer.stem(w) for w in casefold]\n",
    "    rand_papers[title] = FreqDist(stemming)\n",
    "    words_amount = sum(rand_papers[title].values())\n",
    "    \n",
    "    for key, value in rand_papers[title].items():\n",
    "        rand_papers[title][key] = value / words_amount\n",
    "    "
   ]
  },
  {
   "cell_type": "code",
   "execution_count": 12,
   "metadata": {},
   "outputs": [
    {
     "data": {
      "text/plain": [
       "15"
      ]
     },
     "execution_count": 12,
     "metadata": {},
     "output_type": "execute_result"
    }
   ],
   "source": [
    "rel_list = ['A Framework for Guiding the Museum Tours Personalization',\n",
    "            'A Multi-Sensory Approach to Cultural Heritage The Battle of Pavia Exhibition',\n",
    "            'A Novel Image Based Positioning Technique Using Mobile Eye Tracker For A Museum Visit',\n",
    "            'A Point-Of-Interest Directory For Mobile Tourists In Abuja, Nigeria',\n",
    "            'A Survey of Map-based Mobile Guides',\n",
    "            'A visitors guide in an active museum Presentation',\n",
    "            'Adoption and Use of Emerging Cultural Technologies in China\\'s Museums',\n",
    "            'Analyzing Visitor Perceptions of Personalization in Art Museum Interactive Technology',\n",
    "            'Augmented reality for visitors of cultural heritage sites',\n",
    "            'Design and development of Taeneb City Guide - From Paper Maps and Guidebooks to Electronic Guides',\n",
    "            'Full Access to Cultural Spaces (FACS) Mapping and evaluating museum access services using mobile eye-tracking technology',\n",
    "            'In-Sights into Mobile Learning  An Exploration of Mobile Eye Tracking Methodology for  Learning in Museums',\n",
    "            'Mobile augmented reality for cultural heritage Following the footsteps of Ovid among different locations in Europe',\n",
    "            'Museum Guide 2.0 – An Eye-Tracking based Personal Assistant for Museums and Exhibits',\n",
    "            'Potentials and Limitations of Mobile Eye Tracking in Visitor Studies_ Evidence From Field Research at Two Museum Exhibitions in Germany',\n",
    "            ]\n",
    "\n",
    "rel_list = [name.lower() + '.txt' for name in rel_list]\n",
    "len(rel_list)"
   ]
  },
  {
   "cell_type": "code",
   "execution_count": 13,
   "metadata": {},
   "outputs": [],
   "source": [
    "from sklearn.feature_extraction.text import CountVectorizer"
   ]
  },
  {
   "cell_type": "code",
   "execution_count": 25,
   "metadata": {
    "scrolled": true
   },
   "outputs": [],
   "source": [
    "tokenizer = RegexpTokenizer(r\"[a-zA-Z]+\")\n",
    "\n",
    "rand_papers_clas = {}\n",
    "path = \"HW1_rand_txt\"\n",
    "\n",
    "for file_name in os.listdir(path):\n",
    "    with open(path + os.sep + file_name, 'r', encoding = \"utf8\") as f:\n",
    "        if file_name.lower() in rel_list:\n",
    "            rand_papers_clas[file_name.lower()] = (f.read(), 1)\n",
    "        else:\n",
    "            rand_papers_clas[file_name.lower()] = (f.read(), 0)"
   ]
  },
  {
   "cell_type": "code",
   "execution_count": 26,
   "metadata": {},
   "outputs": [],
   "source": [
    "# count_vect = CountVectorizer()\n",
    "# X_train_counts = count_vect.fit_transform(rand_papers_clas.values())\n",
    "# X_train_counts.shape"
   ]
  },
  {
   "cell_type": "code",
   "execution_count": 27,
   "metadata": {},
   "outputs": [
    {
     "data": {
      "text/plain": [
       "0.012224374255065555"
      ]
     },
     "execution_count": 27,
     "metadata": {},
     "output_type": "execute_result"
    }
   ],
   "source": [
    "# for initial language model\n",
    "fdist[\"mobile\"]+fdist[\"visitors\"]+fdist[\"guide\"]\n",
    "\n",
    "#for language model after stop words removal\n",
    "\n",
    "# for language model after case folding\n",
    "\n",
    "# for language model after stemming"
   ]
  },
  {
   "cell_type": "code",
   "execution_count": 28,
   "metadata": {},
   "outputs": [
    {
     "data": {
      "text/plain": [
       "['museum guide 2.0 – an eye-tracking based personal assistant for museums and exhibits.txt',\n",
       " 'potentials and limitations of mobile eye tracking in visitor studies_ evidence from field research at two museum exhibitions in germany.txt']"
      ]
     },
     "execution_count": 28,
     "metadata": {},
     "output_type": "execute_result"
    }
   ],
   "source": [
    "rel_test = rel_list[-2:]\n",
    "rel_test"
   ]
  },
  {
   "cell_type": "code",
   "execution_count": 29,
   "metadata": {},
   "outputs": [
    {
     "data": {
      "text/plain": [
       "['a framework for guiding the museum tours personalization.txt',\n",
       " 'a multi-sensory approach to cultural heritage the battle of pavia exhibition.txt',\n",
       " 'a novel image based positioning technique using mobile eye tracker for a museum visit.txt',\n",
       " 'a point-of-interest directory for mobile tourists in abuja, nigeria.txt',\n",
       " 'a survey of map-based mobile guides.txt',\n",
       " 'a visitors guide in an active museum presentation.txt',\n",
       " \"adoption and use of emerging cultural technologies in china's museums.txt\",\n",
       " 'analyzing visitor perceptions of personalization in art museum interactive technology.txt',\n",
       " 'augmented reality for visitors of cultural heritage sites.txt',\n",
       " 'design and development of taeneb city guide - from paper maps and guidebooks to electronic guides.txt',\n",
       " 'full access to cultural spaces (facs) mapping and evaluating museum access services using mobile eye-tracking technology.txt',\n",
       " 'in-sights into mobile learning  an exploration of mobile eye tracking methodology for  learning in museums.txt',\n",
       " 'mobile augmented reality for cultural heritage following the footsteps of ovid among different locations in europe.txt']"
      ]
     },
     "execution_count": 29,
     "metadata": {},
     "output_type": "execute_result"
    }
   ],
   "source": [
    "train_set = rel_list[:13]\n",
    "train_set"
   ]
  },
  {
   "cell_type": "code",
   "execution_count": 30,
   "metadata": {},
   "outputs": [
    {
     "data": {
      "text/plain": [
       "['a framework for guiding the museum tours personalization.txt',\n",
       " 'a multi-sensory approach to cultural heritage the battle of pavia exhibition.txt',\n",
       " 'a novel image based positioning technique using mobile eye tracker for a museum visit.txt',\n",
       " 'a point-of-interest directory for mobile tourists in abuja, nigeria.txt',\n",
       " 'a survey of map-based mobile guides.txt',\n",
       " 'a visitors guide in an active museum presentation.txt',\n",
       " \"adoption and use of emerging cultural technologies in china's museums.txt\",\n",
       " 'analyzing visitor perceptions of personalization in art museum interactive technology.txt',\n",
       " 'augmented reality for visitors of cultural heritage sites.txt',\n",
       " 'design and development of taeneb city guide - from paper maps and guidebooks to electronic guides.txt',\n",
       " 'full access to cultural spaces (facs) mapping and evaluating museum access services using mobile eye-tracking technology.txt',\n",
       " 'in-sights into mobile learning  an exploration of mobile eye tracking methodology for  learning in museums.txt',\n",
       " 'mobile augmented reality for cultural heritage following the footsteps of ovid among different locations in europe.txt',\n",
       " 'museum guide 2.0 – an eye-tracking based personal assistant for museums and exhibits.txt',\n",
       " 'potentials and limitations of mobile eye tracking in visitor studies_ evidence from field research at two museum exhibitions in germany.txt']"
      ]
     },
     "execution_count": 30,
     "metadata": {},
     "output_type": "execute_result"
    }
   ],
   "source": [
    "rel_list"
   ]
  },
  {
   "cell_type": "markdown",
   "metadata": {},
   "source": [
    "# Train and Test split\n"
   ]
  },
  {
   "cell_type": "code",
   "execution_count": 229,
   "metadata": {},
   "outputs": [],
   "source": [
    "X = [v[0] for k, v in rand_papers_clas.items()]\n",
    "y = [v[1] for k, v in rand_papers_clas.items()]\n",
    "\n",
    "vectorizer = CountVectorizer()\n",
    "X = vectorizer.fit_transform(X).toarray()\n",
    "\n",
    "X_train, X_test, y_train, y_test = train_test_split(X, y, test_size=0.1, random_state=0)"
   ]
  },
  {
   "cell_type": "markdown",
   "metadata": {},
   "source": [
    "## Classification models"
   ]
  },
  {
   "cell_type": "code",
   "execution_count": 230,
   "metadata": {},
   "outputs": [],
   "source": [
    "def elbow_met(X_train, y_train):\n",
    "    distortions = []\n",
    "    K = range(2,11)\n",
    "    for k in K:\n",
    "        knnModel = KNeighborsClassifier(n_neighbors=k)\n",
    "        knnModel.fit(X_train, y_train)\n",
    "        pred_k = knnModel.predict(X_test)\n",
    "\n",
    "        distortions.append(np.mean(pred_k != y_test))\n",
    "        \n",
    "    # Plot the elbow\n",
    "    plt.figure(figsize=(10,5))\n",
    "    plt.plot(K, distortions, 'bx-')\n",
    "    plt.xlabel('k')\n",
    "    plt.ylabel('Error Rate')\n",
    "    plt.title('Error Rate vs. K Value')\n",
    "    plt.show()"
   ]
  },
  {
   "cell_type": "code",
   "execution_count": 231,
   "metadata": {},
   "outputs": [
    {
     "data": {
      "image/png": "[encoded data removed]",
      "text/plain": [
       "<Figure size 720x360 with 1 Axes>"
      ]
     },
     "metadata": {
      "needs_background": "light"
     },
     "output_type": "display_data"
    }
   ],
   "source": [
    "elbow_met(X_train, y_train)"
   ]
  },
  {
   "cell_type": "markdown",
   "metadata": {},
   "source": [
    "## KNN"
   ]
  },
  {
   "cell_type": "code",
   "execution_count": 232,
   "metadata": {},
   "outputs": [
    {
     "name": "stdout",
     "output_type": "stream",
     "text": [
      "Accuracy :  0.8\n"
     ]
    }
   ],
   "source": [
    "knn = KNeighborsClassifier(n_neighbors=9, metric='euclidean')\n",
    "knn = knn.fit(X_train, y_train)\n",
    "pred_y = knn.predict(X_test)\n",
    "\n",
    "score = accuracy_score(pred_y, y_test)\n",
    "print('Accuracy : ', score)"
   ]
  },
  {
   "cell_type": "code",
   "execution_count": 233,
   "metadata": {},
   "outputs": [],
   "source": [
    "##### recall\n",
    "##### recision\n",
    "##### f1\n",
    "##### target= [0,1]"
   ]
  },
  {
   "cell_type": "markdown",
   "metadata": {},
   "source": [
    "#### Cross Validation"
   ]
  },
  {
   "cell_type": "code",
   "execution_count": 234,
   "metadata": {},
   "outputs": [
    {
     "data": {
      "text/plain": [
       "array([0.66666667, 0.66666667, 0.8       , 0.5       , 0.75      ,\n",
       "       0.75      , 0.25      , 0.75      , 0.75      , 0.5       ])"
      ]
     },
     "execution_count": 234,
     "metadata": {},
     "output_type": "execute_result"
    }
   ],
   "source": [
    "cross_val_score(KNeighborsClassifier(n_neighbors=9, metric='euclidean'), X_train, y_train, cv = 10)"
   ]
  },
  {
   "cell_type": "markdown",
   "metadata": {},
   "source": [
    "## SVM"
   ]
  },
  {
   "cell_type": "code",
   "execution_count": 235,
   "metadata": {},
   "outputs": [
    {
     "name": "stdout",
     "output_type": "stream",
     "text": [
      "Accuracy :  0.6\n"
     ]
    }
   ],
   "source": [
    "SVM = SVC(random_state = 0, gamma='auto')\n",
    "SVM.fit(X_train, y_train)\n",
    "pred_y = SVM.predict(X_test)\n",
    "score = accuracy_score(pred_y, y_test)\n",
    "print(\"Accuracy : \", score)"
   ]
  },
  {
   "cell_type": "code",
   "execution_count": 236,
   "metadata": {},
   "outputs": [
    {
     "name": "stderr",
     "output_type": "stream",
     "text": [
      "C:\\Users\\User\\Anaconda3\\lib\\site-packages\\sklearn\\svm\\base.py:193: FutureWarning: The default value of gamma will change from 'auto' to 'scale' in version 0.22 to account better for unscaled features. Set gamma explicitly to 'auto' or 'scale' to avoid this warning.\n",
      "  \"avoid this warning.\", FutureWarning)\n",
      "C:\\Users\\User\\Anaconda3\\lib\\site-packages\\sklearn\\svm\\base.py:193: FutureWarning: The default value of gamma will change from 'auto' to 'scale' in version 0.22 to account better for unscaled features. Set gamma explicitly to 'auto' or 'scale' to avoid this warning.\n",
      "  \"avoid this warning.\", FutureWarning)\n",
      "C:\\Users\\User\\Anaconda3\\lib\\site-packages\\sklearn\\svm\\base.py:193: FutureWarning: The default value of gamma will change from 'auto' to 'scale' in version 0.22 to account better for unscaled features. Set gamma explicitly to 'auto' or 'scale' to avoid this warning.\n",
      "  \"avoid this warning.\", FutureWarning)\n",
      "C:\\Users\\User\\Anaconda3\\lib\\site-packages\\sklearn\\svm\\base.py:193: FutureWarning: The default value of gamma will change from 'auto' to 'scale' in version 0.22 to account better for unscaled features. Set gamma explicitly to 'auto' or 'scale' to avoid this warning.\n",
      "  \"avoid this warning.\", FutureWarning)\n",
      "C:\\Users\\User\\Anaconda3\\lib\\site-packages\\sklearn\\svm\\base.py:193: FutureWarning: The default value of gamma will change from 'auto' to 'scale' in version 0.22 to account better for unscaled features. Set gamma explicitly to 'auto' or 'scale' to avoid this warning.\n",
      "  \"avoid this warning.\", FutureWarning)\n",
      "C:\\Users\\User\\Anaconda3\\lib\\site-packages\\sklearn\\svm\\base.py:193: FutureWarning: The default value of gamma will change from 'auto' to 'scale' in version 0.22 to account better for unscaled features. Set gamma explicitly to 'auto' or 'scale' to avoid this warning.\n",
      "  \"avoid this warning.\", FutureWarning)\n",
      "C:\\Users\\User\\Anaconda3\\lib\\site-packages\\sklearn\\svm\\base.py:193: FutureWarning: The default value of gamma will change from 'auto' to 'scale' in version 0.22 to account better for unscaled features. Set gamma explicitly to 'auto' or 'scale' to avoid this warning.\n",
      "  \"avoid this warning.\", FutureWarning)\n",
      "C:\\Users\\User\\Anaconda3\\lib\\site-packages\\sklearn\\svm\\base.py:193: FutureWarning: The default value of gamma will change from 'auto' to 'scale' in version 0.22 to account better for unscaled features. Set gamma explicitly to 'auto' or 'scale' to avoid this warning.\n",
      "  \"avoid this warning.\", FutureWarning)\n",
      "C:\\Users\\User\\Anaconda3\\lib\\site-packages\\sklearn\\svm\\base.py:193: FutureWarning: The default value of gamma will change from 'auto' to 'scale' in version 0.22 to account better for unscaled features. Set gamma explicitly to 'auto' or 'scale' to avoid this warning.\n",
      "  \"avoid this warning.\", FutureWarning)\n",
      "C:\\Users\\User\\Anaconda3\\lib\\site-packages\\sklearn\\svm\\base.py:193: FutureWarning: The default value of gamma will change from 'auto' to 'scale' in version 0.22 to account better for unscaled features. Set gamma explicitly to 'auto' or 'scale' to avoid this warning.\n",
      "  \"avoid this warning.\", FutureWarning)\n"
     ]
    },
    {
     "data": {
      "text/plain": [
       "array([0.66666667, 0.66666667, 0.6       , 0.75      , 0.75      ,\n",
       "       0.75      , 0.75      , 0.75      , 0.75      , 0.75      ])"
      ]
     },
     "execution_count": 236,
     "metadata": {},
     "output_type": "execute_result"
    }
   ],
   "source": [
    "cross_val_score(SVC(), X_train, y_train, cv = 10)"
   ]
  },
  {
   "cell_type": "markdown",
   "metadata": {},
   "source": [
    "## Naive Bayes - Multinomial"
   ]
  },
  {
   "cell_type": "code",
   "execution_count": 237,
   "metadata": {},
   "outputs": [
    {
     "name": "stdout",
     "output_type": "stream",
     "text": [
      "Accuracy :  0.6\n"
     ]
    }
   ],
   "source": [
    "nb = MultinomialNB()\n",
    "nb.fit(X_train, y_train)\n",
    "pred_y = nb.predict(X_test)\n",
    "score = accuracy_score(pred_y, y_test)\n",
    "print(\"Accuracy : \", score)"
   ]
  },
  {
   "cell_type": "code",
   "execution_count": 238,
   "metadata": {},
   "outputs": [
    {
     "data": {
      "text/plain": [
       "array([0.66666667, 0.66666667, 0.        , 0.25      , 0.5       ,\n",
       "       0.5       , 0.5       , 0.75      , 0.75      , 0.5       ])"
      ]
     },
     "execution_count": 238,
     "metadata": {},
     "output_type": "execute_result"
    }
   ],
   "source": [
    "cross_val_score(MultinomialNB(), X_train, y_train, cv = 10)"
   ]
  },
  {
   "cell_type": "markdown",
   "metadata": {},
   "source": [
    "## Random Forest"
   ]
  },
  {
   "cell_type": "code",
   "execution_count": 239,
   "metadata": {},
   "outputs": [
    {
     "name": "stdout",
     "output_type": "stream",
     "text": [
      "Accuracy :  0.6\n"
     ]
    }
   ],
   "source": [
    "rfc = RandomForestClassifier(n_estimators = 300 ,random_state = 0 ,min_samples_split = 5)\n",
    "rfc = rfc.fit(X_train, y_train)\n",
    "pred_y = rfc.predict(X_test)\n",
    "score = accuracy_score(pred_y, y_test)\n",
    "print('Accuracy : ',score)"
   ]
  },
  {
   "cell_type": "code",
   "execution_count": 240,
   "metadata": {},
   "outputs": [
    {
     "name": "stderr",
     "output_type": "stream",
     "text": [
      "C:\\Users\\User\\Anaconda3\\lib\\site-packages\\sklearn\\ensemble\\forest.py:245: FutureWarning: The default value of n_estimators will change from 10 in version 0.20 to 100 in 0.22.\n",
      "  \"10 in version 0.20 to 100 in 0.22.\", FutureWarning)\n",
      "C:\\Users\\User\\Anaconda3\\lib\\site-packages\\sklearn\\ensemble\\forest.py:245: FutureWarning: The default value of n_estimators will change from 10 in version 0.20 to 100 in 0.22.\n",
      "  \"10 in version 0.20 to 100 in 0.22.\", FutureWarning)\n",
      "C:\\Users\\User\\Anaconda3\\lib\\site-packages\\sklearn\\ensemble\\forest.py:245: FutureWarning: The default value of n_estimators will change from 10 in version 0.20 to 100 in 0.22.\n",
      "  \"10 in version 0.20 to 100 in 0.22.\", FutureWarning)\n",
      "C:\\Users\\User\\Anaconda3\\lib\\site-packages\\sklearn\\ensemble\\forest.py:245: FutureWarning: The default value of n_estimators will change from 10 in version 0.20 to 100 in 0.22.\n",
      "  \"10 in version 0.20 to 100 in 0.22.\", FutureWarning)\n",
      "C:\\Users\\User\\Anaconda3\\lib\\site-packages\\sklearn\\ensemble\\forest.py:245: FutureWarning: The default value of n_estimators will change from 10 in version 0.20 to 100 in 0.22.\n",
      "  \"10 in version 0.20 to 100 in 0.22.\", FutureWarning)\n",
      "C:\\Users\\User\\Anaconda3\\lib\\site-packages\\sklearn\\ensemble\\forest.py:245: FutureWarning: The default value of n_estimators will change from 10 in version 0.20 to 100 in 0.22.\n",
      "  \"10 in version 0.20 to 100 in 0.22.\", FutureWarning)\n",
      "C:\\Users\\User\\Anaconda3\\lib\\site-packages\\sklearn\\ensemble\\forest.py:245: FutureWarning: The default value of n_estimators will change from 10 in version 0.20 to 100 in 0.22.\n",
      "  \"10 in version 0.20 to 100 in 0.22.\", FutureWarning)\n",
      "C:\\Users\\User\\Anaconda3\\lib\\site-packages\\sklearn\\ensemble\\forest.py:245: FutureWarning: The default value of n_estimators will change from 10 in version 0.20 to 100 in 0.22.\n",
      "  \"10 in version 0.20 to 100 in 0.22.\", FutureWarning)\n",
      "C:\\Users\\User\\Anaconda3\\lib\\site-packages\\sklearn\\ensemble\\forest.py:245: FutureWarning: The default value of n_estimators will change from 10 in version 0.20 to 100 in 0.22.\n",
      "  \"10 in version 0.20 to 100 in 0.22.\", FutureWarning)\n",
      "C:\\Users\\User\\Anaconda3\\lib\\site-packages\\sklearn\\ensemble\\forest.py:245: FutureWarning: The default value of n_estimators will change from 10 in version 0.20 to 100 in 0.22.\n",
      "  \"10 in version 0.20 to 100 in 0.22.\", FutureWarning)\n"
     ]
    },
    {
     "data": {
      "text/plain": [
       "array([0.83333333, 0.83333333, 0.6       , 0.75      , 1.        ,\n",
       "       0.75      , 0.75      , 0.75      , 0.5       , 0.75      ])"
      ]
     },
     "execution_count": 240,
     "metadata": {},
     "output_type": "execute_result"
    }
   ],
   "source": [
    "cross_val_score(RandomForestClassifier(), X_train, y_train, cv = 10)"
   ]
  },
  {
   "cell_type": "markdown",
   "metadata": {},
   "source": [
    "# part3"
   ]
  },
  {
   "cell_type": "markdown",
   "metadata": {},
   "source": [
    "# //TODO - remember to add new new documents"
   ]
  },
  {
   "cell_type": "code",
   "execution_count": 241,
   "metadata": {},
   "outputs": [],
   "source": [
    "def elbow_met(X_train):\n",
    "    distortions = []\n",
    "    K = range(1,10)\n",
    "    for k in K:\n",
    "        kmeanModel = KMeans(n_clusters=k).fit(X_train)\n",
    "        kmeanModel.fit(X_train)\n",
    "        distortions.append(sum(np.min(cdist(X_train, kmeanModel.cluster_centers_, 'euclidean'), axis=1)) / X_train.shape[0])\n",
    "\n",
    "    # Plot the elbow\n",
    "    plt.figure(figsize=(10,7))\n",
    "    plt.plot(K, distortions, 'bx-')\n",
    "    plt.xlabel('k')\n",
    "    plt.ylabel('Within groups sum of squares')\n",
    "    plt.title('The Elbow Method showing the optimal k')\n",
    "    plt.show()"
   ]
  },
  {
   "cell_type": "code",
   "execution_count": 242,
   "metadata": {},
   "outputs": [
    {
     "data": {
      "image/png": "[encoded data removed]",
      "text/plain": [
       "<Figure size 720x504 with 1 Axes>"
      ]
     },
     "metadata": {
      "needs_background": "light"
     },
     "output_type": "display_data"
    }
   ],
   "source": [
    "elbow_met(X_train)"
   ]
  },
  {
   "cell_type": "code",
   "execution_count": 244,
   "metadata": {},
   "outputs": [
    {
     "data": {
      "text/plain": [
       "array([0, 4, 2, 2, 2, 0, 2, 0, 0, 3, 2, 2, 4, 2, 4, 2, 0, 0, 2, 0, 2, 0,\n",
       "       2, 4, 4, 2, 0, 0, 2, 2, 0, 2, 0, 2, 4, 4, 0, 0, 1, 0, 0, 0, 2, 0,\n",
       "       0])"
      ]
     },
     "execution_count": 244,
     "metadata": {},
     "output_type": "execute_result"
    }
   ],
   "source": [
    "kmeans = KMeans(n_clusters = 5, random_state = 0)\n",
    "pred_y = kmeans.fit_predict(X_train)\n",
    "pred_y"
   ]
  },
  {
   "cell_type": "code",
   "execution_count": null,
   "metadata": {},
   "outputs": [],
   "source": []
  },
  {
   "cell_type": "code",
   "execution_count": null,
   "metadata": {},
   "outputs": [],
   "source": []
  }
 ],
 "metadata": {
  "kernelspec": {
   "display_name": "Python 3",
   "language": "python",
   "name": "python3"
  },
  "language_info": {
   "codemirror_mode": {
    "name": "ipython",
    "version": 3
   },
   "file_extension": ".py",
   "mimetype": "text/x-python",
   "name": "python",
   "nbconvert_exporter": "python",
   "pygments_lexer": "ipython3",
   "version": "3.7.4"
  }
 },
 "nbformat": 4,
 "nbformat_minor": 4
}
